{
 "cells": [
  {
   "cell_type": "code",
   "execution_count": 1,
   "metadata": {},
   "outputs": [],
   "source": [
    "import numpy as np\n",
    "import pandas as pd\n",
    "import matplotlib.pyplot as plt\n",
    "import seaborn as sns\n",
    "from scipy.stats import kurtosis, skew"
   ]
  },
  {
   "cell_type": "code",
   "execution_count": 2,
   "metadata": {},
   "outputs": [],
   "source": [
    "# Change per local-system\n",
    "\n",
    "fileLoc = 'winemag-data_first150k.csv'\n",
    "data = pd.read_csv(fileLoc, index_col = 0)"
   ]
  },
  {
   "cell_type": "code",
   "execution_count": 8,
   "metadata": {
    "scrolled": false
   },
   "outputs": [
    {
     "name": "stdout",
     "output_type": "stream",
     "text": [
      "Before Cleaning\n",
      "Number of touples per attribute before cleaning: 150930 \n",
      "\n",
      "country           48\n",
      "description    97821\n",
      "designation    30621\n",
      "points            21\n",
      "price            357\n",
      "province         455\n",
      "region_1        1236\n",
      "region_2          18\n",
      "variety          632\n",
      "winery         14810\n",
      "dtype: int64 \n",
      "\n",
      "              points          price\n",
      "count  150930.000000  137235.000000\n",
      "mean       87.888418      33.131482\n",
      "std         3.222392      36.322536\n",
      "min        80.000000       4.000000\n",
      "25%        86.000000      16.000000\n",
      "50%        88.000000      24.000000\n",
      "75%        90.000000      40.000000\n",
      "max       100.000000    2300.000000 \n",
      "\n"
     ]
    }
   ],
   "source": [
    "# Cleaning data, remove all touples with null (NaN) values in specific attribute\n",
    "# and ccompare dataframes by size of attributes and description of attributes (mean, std dev., min, max, etc)\n",
    "\n",
    "# Understand data types of each attribute\n",
    "# print(\"Data types and volume of attributes per tuple\")\n",
    "# print(data.info(),\"\\n\")\n",
    "\n",
    "# Before cleaning\n",
    "print(\"Before Cleaning\")\n",
    "print(\"Number of touples per attribute before cleaning:\", len(data), \"\\n\")\n",
    "print(data.nunique(), \"\\n\")\n",
    "print(data.describe(),\"\\n\")"
   ]
  },
  {
   "cell_type": "code",
   "execution_count": 9,
   "metadata": {},
   "outputs": [
    {
     "name": "stdout",
     "output_type": "stream",
     "text": [
      "After Cleaning\n",
      "\n",
      "Number of touples per attribute after cleaning: 137230 \n",
      "\n",
      "country           46\n",
      "description    89105\n",
      "designation    28343\n",
      "points            21\n",
      "price            357\n",
      "province         446\n",
      "region_1        1197\n",
      "region_2          18\n",
      "variety          619\n",
      "winery         13851\n",
      "dtype: int64\n",
      "              points          price\n",
      "count  137230.000000  137230.000000\n",
      "mean       87.788035      33.132019\n",
      "std         3.221572      36.323072\n",
      "min        80.000000       4.000000\n",
      "25%        86.000000      16.000000\n",
      "50%        88.000000      24.000000\n",
      "75%        90.000000      40.000000\n",
      "max       100.000000    2300.000000\n"
     ]
    }
   ],
   "source": [
    "# Clean the data\n",
    "# Remove all touples with null values in following subsets\n",
    "clean_data = data.dropna(subset=['description', 'points', 'price', 'province', 'country', 'winery', 'variety'])\n",
    "\n",
    "# After cleaning\n",
    "print(\"After Cleaning\")\n",
    "print(\"\\nNumber of touples per attribute after cleaning:\", len(clean_data), \"\\n\")\n",
    "print(clean_data.nunique())\n",
    "print(clean_data.describe())"
   ]
  },
  {
   "cell_type": "code",
   "execution_count": 6,
   "metadata": {},
   "outputs": [],
   "source": [
    "# THIS NEEDS WORK\n",
    "# Remove outliers in 'price'\n",
    "# Set max 'price' to $45\n",
    "# look at https://www.kaggle.com/kabure/wine-review-s-understanding-pythonic-eda as reference\n",
    "\n",
    "def RemoveOutliers(data_numeric):\n",
    "    \n",
    "    # Calculate mean and std devition of the the attribute ('price' or 'points')\n",
    "    data_mean = np.mean(clean_numeric)\n",
    "    data_std = np.std(clean_numeric)\n",
    "    \n",
    "    upper = 45 # Set the maximum price to $45 for all evaluations (we're broke students after all, feel free to change)\n",
    "    \n",
    "    # Find outliers (too expensive)\n",
    "    outliers_expensive = [x for x in data_numeric if x > upper]\n",
    "    \n",
    "    # Remove the outliers\n",
    "    data_affordable = [x for x in data_numeric if x < upper]\n",
    "    \n",
    "    print('Outliers beyond affordable limit: %d', len(data_affordable))\n",
    "    print('Outliers beyond affordable limit: %d', len(outliers_expensive))\n",
    "    \n",
    "    return\n",
    "    "
   ]
  },
  {
   "cell_type": "code",
   "execution_count": 7,
   "metadata": {},
   "outputs": [
    {
     "ename": "NameError",
     "evalue": "name 'clean_numeric' is not defined",
     "output_type": "error",
     "traceback": [
      "\u001b[0;31m---------------------------------------------------------------------------\u001b[0m",
      "\u001b[0;31mNameError\u001b[0m                                 Traceback (most recent call last)",
      "\u001b[0;32m<ipython-input-7-99d2e80b848a>\u001b[0m in \u001b[0;36m<module>\u001b[0;34m\u001b[0m\n\u001b[1;32m      1\u001b[0m \u001b[0;31m# DON'T RUN, SAME AS ABOVE, NEEDS WORK\u001b[0m\u001b[0;34m\u001b[0m\u001b[0;34m\u001b[0m\u001b[0;34m\u001b[0m\u001b[0m\n\u001b[0;32m----> 2\u001b[0;31m \u001b[0mRemoveOutliers\u001b[0m\u001b[0;34m(\u001b[0m\u001b[0mclean_data\u001b[0m\u001b[0;34m)\u001b[0m\u001b[0;34m\u001b[0m\u001b[0;34m\u001b[0m\u001b[0m\n\u001b[0m",
      "\u001b[0;32m<ipython-input-6-83e472297601>\u001b[0m in \u001b[0;36mRemoveOutliers\u001b[0;34m(data_numeric)\u001b[0m\n\u001b[1;32m      7\u001b[0m \u001b[0;34m\u001b[0m\u001b[0m\n\u001b[1;32m      8\u001b[0m     \u001b[0;31m# Calculate mean and std devition of the the attribute ('price' or 'points')\u001b[0m\u001b[0;34m\u001b[0m\u001b[0;34m\u001b[0m\u001b[0;34m\u001b[0m\u001b[0m\n\u001b[0;32m----> 9\u001b[0;31m     \u001b[0mdata_mean\u001b[0m \u001b[0;34m=\u001b[0m \u001b[0mnp\u001b[0m\u001b[0;34m.\u001b[0m\u001b[0mmean\u001b[0m\u001b[0;34m(\u001b[0m\u001b[0mclean_numeric\u001b[0m\u001b[0;34m)\u001b[0m\u001b[0;34m\u001b[0m\u001b[0;34m\u001b[0m\u001b[0m\n\u001b[0m\u001b[1;32m     10\u001b[0m     \u001b[0mdata_std\u001b[0m \u001b[0;34m=\u001b[0m \u001b[0mnp\u001b[0m\u001b[0;34m.\u001b[0m\u001b[0mstd\u001b[0m\u001b[0;34m(\u001b[0m\u001b[0mclean_numeric\u001b[0m\u001b[0;34m)\u001b[0m\u001b[0;34m\u001b[0m\u001b[0;34m\u001b[0m\u001b[0m\n\u001b[1;32m     11\u001b[0m \u001b[0;34m\u001b[0m\u001b[0m\n",
      "\u001b[0;31mNameError\u001b[0m: name 'clean_numeric' is not defined"
     ]
    }
   ],
   "source": [
    "# DON'T RUN, SAME AS ABOVE, NEEDS WORK\n",
    "RemoveOutliers(clean_data)"
   ]
  },
  {
   "cell_type": "code",
   "execution_count": null,
   "metadata": {},
   "outputs": [],
   "source": [
    "#\n",
    "# Must rewrite this with dataframe that removes outliers.\n",
    "#\n",
    "\n",
    "# \n",
    "\n",
    "plt.figure(figsize=(20,18))\n",
    "\n",
    "\n",
    "\n",
    "plt.subplot(2,1,1)\n",
    "g = sns.boxplot(x='province', y='price',data=clean_data.province[(clean_data.province.isin(province.index.values))])\n"
   ]
  },
  {
   "cell_type": "code",
   "execution_count": null,
   "metadata": {},
   "outputs": [],
   "source": [
    "example = clean_data[['description','points']]\n",
    "example.info()"
   ]
  },
  {
   "cell_type": "code",
   "execution_count": null,
   "metadata": {},
   "outputs": [],
   "source": [
    "# Graphing simple distributions of points\n",
    "# e.g.\n",
    "\n",
    "\n",
    "# distribution of 'points'\n",
    "graph_point_dist = sns.countplot(x='points', data=clean_data)\n"
   ]
  },
  {
   "cell_type": "code",
   "execution_count": null,
   "metadata": {},
   "outputs": [],
   "source": [
    "#distribution of prices\n",
    "graph_point_dist = sns.countplot(x='price', data=clean_data)"
   ]
  },
  {
   "cell_type": "code",
   "execution_count": null,
   "metadata": {},
   "outputs": [],
   "source": [
    "# average (mean) price by points\n",
    "# change to dataframe without expensive outliers\n",
    "clean_data.groupby(['points']).mean()"
   ]
  },
  {
   "cell_type": "code",
   "execution_count": null,
   "metadata": {},
   "outputs": [],
   "source": [
    "clean_data['province'].value_counts().head(25).plot.pie()\n",
    "\n",
    "# Unsquish the pie\n",
    "plt.gca().set_aspect('equal')"
   ]
  },
  {
   "cell_type": "code",
   "execution_count": null,
   "metadata": {},
   "outputs": [],
   "source": [
    "clean_data['points'].value_counts().sort_index().plot.bar(figsize =(12,6))"
   ]
  },
  {
   "cell_type": "code",
   "execution_count": null,
   "metadata": {},
   "outputs": [],
   "source": [
    "clean_data[clean_data['price'] < 100].sample(100).plot.scatter(x='price', y='points')\n",
    "clean_data[clean_data['price'] < 100].plot.hexbin(x='price', y='points',gridsize = 15)"
   ]
  },
  {
   "cell_type": "code",
   "execution_count": null,
   "metadata": {},
   "outputs": [],
   "source": []
  }
 ],
 "metadata": {
  "kernelspec": {
   "display_name": "Python 3",
   "language": "python",
   "name": "python3"
  },
  "language_info": {
   "codemirror_mode": {
    "name": "ipython",
    "version": 3
   },
   "file_extension": ".py",
   "mimetype": "text/x-python",
   "name": "python",
   "nbconvert_exporter": "python",
   "pygments_lexer": "ipython3",
   "version": "3.7.1"
  }
 },
 "nbformat": 4,
 "nbformat_minor": 2
}
